{
 "cells": [
  {
   "cell_type": "markdown",
   "metadata": {},
   "source": [
    "## Ens"
   ]
  },
  {
   "cell_type": "code",
   "execution_count": 65,
   "metadata": {},
   "outputs": [
    {
     "name": "stdout",
     "output_type": "stream",
     "text": [
      "+ OUT_EXT=.out.tmp\n",
      "++ ls 1=89.5.txt 2=90.34.txt 3=89.68.txt 4=89.17.txt\n",
      "+ TXTS='1=89.5.txt\n",
      "2=90.34.txt\n",
      "3=89.68.txt\n",
      "4=89.17.txt'\n",
      "+ for f in $TXTS\n",
      "+ dos2unix 1=89.5.txt\n",
      "dos2unix: converting file 1=89.5.txt to Unix format...\n",
      "+ OUT=1=89.5.txt.out.tmp\n",
      "+ echo 1=89.5.txt\n",
      "+ echo -e '\\n'\n",
      "+ awk -F '\t' '{print $2}' 1=89.5.txt\n",
      "+ for f in $TXTS\n",
      "+ dos2unix 2=90.34.txt\n",
      "dos2unix: converting file 2=90.34.txt to Unix format...\n",
      "+ OUT=2=90.34.txt.out.tmp\n",
      "+ echo 2=90.34.txt\n",
      "+ echo -e '\\n'\n",
      "+ awk -F '\t' '{print $2}' 2=90.34.txt\n",
      "+ for f in $TXTS\n",
      "+ dos2unix 3=89.68.txt\n",
      "dos2unix: converting file 3=89.68.txt to Unix format...\n",
      "+ OUT=3=89.68.txt.out.tmp\n",
      "+ echo 3=89.68.txt\n",
      "+ echo -e '\\n'\n",
      "+ awk -F '\t' '{print $2}' 3=89.68.txt\n",
      "+ for f in $TXTS\n",
      "+ dos2unix 4=89.17.txt\n",
      "dos2unix: converting file 4=89.17.txt to Unix format...\n",
      "+ OUT=4=89.17.txt.out.tmp\n",
      "+ echo 4=89.17.txt\n",
      "+ echo -e '\\n'\n",
      "+ awk -F '\t' '{print $2}' 4=89.17.txt\n",
      "++ sort -n\n",
      "++ ls 1=89.5.txt.out.tmp 2=90.34.txt.out.tmp 3=89.68.txt.out.tmp 4=89.17.txt.out.tmp\n",
      "+ OUTS='1=89.5.txt.out.tmp\n",
      "2=90.34.txt.out.tmp\n",
      "3=89.68.txt.out.tmp\n",
      "4=89.17.txt.out.tmp'\n",
      "+ paste 1=89.5.txt.out.tmp 2=90.34.txt.out.tmp 3=89.68.txt.out.tmp 4=89.17.txt.out.tmp\n",
      "+ rm 1=89.5.txt.out.tmp 2=90.34.txt.out.tmp 3=89.68.txt.out.tmp 4=89.17.txt.out.tmp\n"
     ]
    }
   ],
   "source": [
    "! sh ens.sh"
   ]
  },
  {
   "cell_type": "markdown",
   "metadata": {},
   "source": [
    "## Read ens_out"
   ]
  },
  {
   "cell_type": "code",
   "execution_count": 66,
   "metadata": {},
   "outputs": [],
   "source": [
    "ens_out_file = \"ens_out\"\n",
    "voting_file = f\"voting.txt\"\n",
    "weighted_voting_file = f\"weighted_voting.txt\""
   ]
  },
  {
   "cell_type": "code",
   "execution_count": 67,
   "metadata": {},
   "outputs": [
    {
     "name": "stdout",
     "output_type": "stream",
     "text": [
      "[89.5, 90.34, 89.68, 89.17]\n"
     ]
    }
   ],
   "source": [
    "with open(ens_out_file) as f:\n",
    "    lines = f.readlines()\n",
    "    \n",
    "accs = [float(item.split(\"=\")[1].replace(\".txt\", \"\")) for item in lines[0].split(\"\\t\")]\n",
    "print(accs)\n",
    "\n",
    "lines = lines[3:]"
   ]
  },
  {
   "cell_type": "code",
   "execution_count": 68,
   "metadata": {},
   "outputs": [],
   "source": [
    "from collections import Counter"
   ]
  },
  {
   "cell_type": "markdown",
   "metadata": {},
   "source": [
    "## Voting"
   ]
  },
  {
   "cell_type": "code",
   "execution_count": 69,
   "metadata": {},
   "outputs": [],
   "source": [
    "predictions = []\n",
    "for line in lines:\n",
    "    if line.strip() == \"\":\n",
    "        predictions.append(\"\\n\")\n",
    "        continue\n",
    "    \n",
    "    line_predictions = line.strip().split(\"\\t\")\n",
    "    line_prediction = Counter(line_predictions).most_common()[0][0]\n",
    "    predictions.append(line_prediction)"
   ]
  },
  {
   "cell_type": "code",
   "execution_count": 70,
   "metadata": {},
   "outputs": [],
   "source": [
    "with open(voting_file, \"w\") as f:\n",
    "    for prediction in predictions:\n",
    "        f.write(f\"{prediction}\")\n",
    "        if prediction != \"\\n\":\n",
    "            f.write(\"\\n\")"
   ]
  },
  {
   "cell_type": "markdown",
   "metadata": {},
   "source": [
    "## Weighted-voting"
   ]
  },
  {
   "cell_type": "code",
   "execution_count": 71,
   "metadata": {},
   "outputs": [
    {
     "name": "stdout",
     "output_type": "stream",
     "text": [
      "[0.24951908333101006, 0.2518609384147871, 0.2500209094203909, 0.24859906883381194]\n"
     ]
    }
   ],
   "source": [
    "norm_accs = [acc / sum(accs) for acc in accs]\n",
    "print(norm_accs)\n",
    "\n",
    "weighted_predictions = []\n",
    "for line in lines:\n",
    "    if line.strip() == \"\":\n",
    "        weighted_predictions.append(\"\\n\")\n",
    "        continue\n",
    "    \n",
    "    line_predictions = line.strip().split(\"\\t\")\n",
    "    line_predictions_dict = {}\n",
    "    for i in range(len(line_predictions)):\n",
    "        line_prediction = line_predictions[i]\n",
    "        norm_acc = norm_accs[i]\n",
    "        \n",
    "        if line_prediction not in line_predictions_dict.keys():\n",
    "            line_predictions_dict[line_prediction] = norm_acc\n",
    "        else:\n",
    "            line_predictions_dict[line_prediction] += norm_acc\n",
    "            \n",
    "    line_prediction = sorted(list(line_predictions_dict.items()), key=lambda item: item[1], reverse=True)[0][0]\n",
    "    weighted_predictions.append(line_prediction)"
   ]
  },
  {
   "cell_type": "code",
   "execution_count": 72,
   "metadata": {},
   "outputs": [],
   "source": [
    "with open(weighted_voting_file, \"w\") as f:\n",
    "    for weighted_prediction in weighted_predictions:\n",
    "        f.write(f\"{weighted_prediction}\")\n",
    "        if weighted_prediction != \"\\n\":\n",
    "            f.write(\"\\n\")"
   ]
  },
  {
   "cell_type": "markdown",
   "metadata": {},
   "source": [
    "## Cmp"
   ]
  },
  {
   "cell_type": "code",
   "execution_count": 73,
   "metadata": {},
   "outputs": [],
   "source": [
    "! paste \"Answer_Same.tsv.cleaned\" voting.txt > voting_srcs_trgs_outs.txt\n",
    "! paste \"Answer_Same.tsv.cleaned\" weighted_voting.txt > weighted_voting_srcs_trgs_outs.txt\n",
    "\n",
    "! awk '{printf \"%s\\t%s\\n\", $2, $3}' voting_srcs_trgs_outs.txt  > voting_trgs_outs.txt\n",
    "! awk '{printf \"%s\\t%s\\n\", $2, $3}' weighted_voting_srcs_trgs_outs.txt  > weighted_voting_trgs_outs.txt\n",
    "\n",
    "! rm voting_srcs_trgs_outs.txt\n",
    "! rm weighted_voting_srcs_trgs_outs.txt"
   ]
  },
  {
   "cell_type": "code",
   "execution_count": 74,
   "metadata": {},
   "outputs": [],
   "source": [
    "def get_acc(trgs, outs):\n",
    "    assert len(trgs) == len(outs)\n",
    "    \n",
    "    right_count = 0\n",
    "    count = 0\n",
    "    for trg, out in zip(trgs, outs):\n",
    "        if trg == out:\n",
    "            right_count += 1\n",
    "        count += 1\n",
    "        \n",
    "    return right_count / count"
   ]
  },
  {
   "cell_type": "code",
   "execution_count": 75,
   "metadata": {},
   "outputs": [],
   "source": [
    "def get_pairs(file):\n",
    "    with open(file) as f:\n",
    "        lines = f.readlines()\n",
    "    \n",
    "    trgs = []\n",
    "    outs = []\n",
    "    for line in lines:\n",
    "        if line.strip() == \"\":\n",
    "            continue\n",
    "        \n",
    "        trg, out = line.strip().split(\"\\t\")\n",
    "        trgs.append(trg)\n",
    "        outs.append(out)\n",
    "    \n",
    "    return trgs, outs"
   ]
  },
  {
   "cell_type": "code",
   "execution_count": 76,
   "metadata": {},
   "outputs": [
    {
     "name": "stdout",
     "output_type": "stream",
     "text": [
      "0.8991058886485763\n"
     ]
    }
   ],
   "source": [
    "print(get_acc(*get_pairs(\"voting_trgs_outs.txt\")))"
   ]
  },
  {
   "cell_type": "code",
   "execution_count": 77,
   "metadata": {},
   "outputs": [
    {
     "name": "stdout",
     "output_type": "stream",
     "text": [
      "0.9032754353497291\n"
     ]
    }
   ],
   "source": [
    "print(get_acc(*get_pairs(\"weighted_voting_trgs_outs.txt\")))"
   ]
  },
  {
   "cell_type": "code",
   "execution_count": null,
   "metadata": {},
   "outputs": [],
   "source": []
  }
 ],
 "metadata": {
  "kernelspec": {
   "display_name": "Python 3",
   "language": "python",
   "name": "python3"
  },
  "language_info": {
   "codemirror_mode": {
    "name": "ipython",
    "version": 3
   },
   "file_extension": ".py",
   "mimetype": "text/x-python",
   "name": "python",
   "nbconvert_exporter": "python",
   "pygments_lexer": "ipython3",
   "version": "3.8.5"
  }
 },
 "nbformat": 4,
 "nbformat_minor": 4
}
