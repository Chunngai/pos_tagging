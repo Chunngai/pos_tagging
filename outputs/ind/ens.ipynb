{
 "cells": [
  {
   "cell_type": "markdown",
   "metadata": {},
   "source": [
    "## Ens"
   ]
  },
  {
   "cell_type": "code",
   "execution_count": 9,
   "metadata": {},
   "outputs": [
    {
     "name": "stdout",
     "output_type": "stream",
     "text": [
      "+ OUT_EXT=.out.tmp\n",
      "++ ls 22222_outs.txt 'results&test=Ind_test.txt.cleaned&time=11_30_09_33.txt&notes=ckpt-1500.txt' 'results&test=Ind_test.txt.cleaned&time=11_30_09_42.txt&notes=ckpt-2000.txt' 'results&test=Ind_test.txt.cleaned&time=11_30_09_51.txt&notes=ckpt-4000.txt'\n",
      "+ TXTS='22222_outs.txt\n",
      "results&test=Ind_test.txt.cleaned&time=11_30_09_33.txt&notes=ckpt-1500.txt\n",
      "results&test=Ind_test.txt.cleaned&time=11_30_09_42.txt&notes=ckpt-2000.txt\n",
      "results&test=Ind_test.txt.cleaned&time=11_30_09_51.txt&notes=ckpt-4000.txt'\n",
      "+ for f in $TXTS\n",
      "+ dos2unix 22222_outs.txt\n",
      "dos2unix: converting file 22222_outs.txt to Unix format...\n",
      "+ OUT=22222_outs.txt.out.tmp\n",
      "+ echo 22222_outs.txt\n",
      "+ echo -e '\\n'\n",
      "+ awk -F '\t' '{print $1}' 22222_outs.txt\n",
      "+ for f in $TXTS\n",
      "+ dos2unix 'results&test=Ind_test.txt.cleaned&time=11_30_09_33.txt&notes=ckpt-1500.txt'\n",
      "dos2unix: converting file results&test=Ind_test.txt.cleaned&time=11_30_09_33.txt&notes=ckpt-1500.txt to Unix format...\n",
      "+ OUT='results&test=Ind_test.txt.cleaned&time=11_30_09_33.txt&notes=ckpt-1500.txt.out.tmp'\n",
      "+ echo 'results&test=Ind_test.txt.cleaned&time=11_30_09_33.txt&notes=ckpt-1500.txt'\n",
      "+ echo -e '\\n'\n",
      "+ awk -F '\t' '{print $1}' 'results&test=Ind_test.txt.cleaned&time=11_30_09_33.txt&notes=ckpt-1500.txt'\n",
      "+ for f in $TXTS\n",
      "+ dos2unix 'results&test=Ind_test.txt.cleaned&time=11_30_09_42.txt&notes=ckpt-2000.txt'\n",
      "dos2unix: converting file results&test=Ind_test.txt.cleaned&time=11_30_09_42.txt&notes=ckpt-2000.txt to Unix format...\n",
      "+ OUT='results&test=Ind_test.txt.cleaned&time=11_30_09_42.txt&notes=ckpt-2000.txt.out.tmp'\n",
      "+ echo 'results&test=Ind_test.txt.cleaned&time=11_30_09_42.txt&notes=ckpt-2000.txt'\n",
      "+ echo -e '\\n'\n",
      "+ awk -F '\t' '{print $1}' 'results&test=Ind_test.txt.cleaned&time=11_30_09_42.txt&notes=ckpt-2000.txt'\n",
      "+ for f in $TXTS\n",
      "+ dos2unix 'results&test=Ind_test.txt.cleaned&time=11_30_09_51.txt&notes=ckpt-4000.txt'\n",
      "dos2unix: converting file results&test=Ind_test.txt.cleaned&time=11_30_09_51.txt&notes=ckpt-4000.txt to Unix format...\n",
      "+ OUT='results&test=Ind_test.txt.cleaned&time=11_30_09_51.txt&notes=ckpt-4000.txt.out.tmp'\n",
      "+ echo 'results&test=Ind_test.txt.cleaned&time=11_30_09_51.txt&notes=ckpt-4000.txt'\n",
      "+ echo -e '\\n'\n",
      "+ awk -F '\t' '{print $1}' 'results&test=Ind_test.txt.cleaned&time=11_30_09_51.txt&notes=ckpt-4000.txt'\n",
      "++ sort -n\n",
      "++ ls 22222_outs.txt.out.tmp 'results&test=Ind_test.txt.cleaned&time=11_30_09_33.txt&notes=ckpt-1500.txt.out.tmp' 'results&test=Ind_test.txt.cleaned&time=11_30_09_42.txt&notes=ckpt-2000.txt.out.tmp' 'results&test=Ind_test.txt.cleaned&time=11_30_09_51.txt&notes=ckpt-4000.txt.out.tmp'\n",
      "+ OUTS='results&test=Ind_test.txt.cleaned&time=11_30_09_33.txt&notes=ckpt-1500.txt.out.tmp\n",
      "results&test=Ind_test.txt.cleaned&time=11_30_09_42.txt&notes=ckpt-2000.txt.out.tmp\n",
      "results&test=Ind_test.txt.cleaned&time=11_30_09_51.txt&notes=ckpt-4000.txt.out.tmp\n",
      "22222_outs.txt.out.tmp'\n",
      "+ paste 'results&test=Ind_test.txt.cleaned&time=11_30_09_33.txt&notes=ckpt-1500.txt.out.tmp' 'results&test=Ind_test.txt.cleaned&time=11_30_09_42.txt&notes=ckpt-2000.txt.out.tmp' 'results&test=Ind_test.txt.cleaned&time=11_30_09_51.txt&notes=ckpt-4000.txt.out.tmp' 22222_outs.txt.out.tmp\n",
      "+ rm 22222_outs.txt.out.tmp 'results&test=Ind_test.txt.cleaned&time=11_30_09_33.txt&notes=ckpt-1500.txt.out.tmp' 'results&test=Ind_test.txt.cleaned&time=11_30_09_42.txt&notes=ckpt-2000.txt.out.tmp' 'results&test=Ind_test.txt.cleaned&time=11_30_09_51.txt&notes=ckpt-4000.txt.out.tmp'\n"
     ]
    }
   ],
   "source": [
    "! sh ens.sh"
   ]
  },
  {
   "cell_type": "markdown",
   "metadata": {},
   "source": [
    "## Read ens_out"
   ]
  },
  {
   "cell_type": "code",
   "execution_count": 10,
   "metadata": {},
   "outputs": [],
   "source": [
    "ens_out_file = \"ens_out\"\n",
    "voting_file = f\"voting.txt\"\n",
    "weighted_voting_file = f\"weighted_voting.txt\""
   ]
  },
  {
   "cell_type": "code",
   "execution_count": 11,
   "metadata": {},
   "outputs": [],
   "source": [
    "with open(ens_out_file) as f:\n",
    "    lines = f.readlines()\n",
    "    \n",
    "# accs = [float(item.split(\"=\")[1].replace(\".txt\", \"\")) for item in lines[0].split(\"\\t\")]\n",
    "# print(accs)\n",
    "\n",
    "lines = lines[3:]"
   ]
  },
  {
   "cell_type": "code",
   "execution_count": 12,
   "metadata": {},
   "outputs": [],
   "source": [
    "from collections import Counter"
   ]
  },
  {
   "cell_type": "markdown",
   "metadata": {},
   "source": [
    "## Voting"
   ]
  },
  {
   "cell_type": "code",
   "execution_count": 13,
   "metadata": {},
   "outputs": [],
   "source": [
    "predictions = []\n",
    "for line in lines:\n",
    "    if line.strip() == \"\":\n",
    "        predictions.append(\"\\n\")\n",
    "        continue\n",
    "    \n",
    "    line_predictions = line.strip().split(\"\\t\")\n",
    "    line_prediction = Counter(line_predictions).most_common()[0][0]\n",
    "    predictions.append(line_prediction)"
   ]
  },
  {
   "cell_type": "code",
   "execution_count": 14,
   "metadata": {},
   "outputs": [],
   "source": [
    "with open(voting_file, \"w\") as f:\n",
    "    for prediction in predictions:\n",
    "        f.write(f\"{prediction}\")\n",
    "        if prediction != \"\\n\":\n",
    "            f.write(\"\\n\")"
   ]
  },
  {
   "cell_type": "markdown",
   "metadata": {},
   "source": [
    "## Weighted-voting"
   ]
  },
  {
   "cell_type": "code",
   "execution_count": 57,
   "metadata": {},
   "outputs": [
    {
     "name": "stdout",
     "output_type": "stream",
     "text": [
      "[0.12454002322620364, 0.1242042226917211, 0.12231534468525695, 0.12476389024919197, 0.12522561598410545, 0.12624700927648977, 0.12640091785479424, 0.12630297603223684]\n"
     ]
    }
   ],
   "source": [
    "norm_accs = [acc / sum(accs) for acc in accs]\n",
    "print(norm_accs)\n",
    "\n",
    "weighted_predictions = []\n",
    "for line in lines:\n",
    "    if line.strip() == \"\":\n",
    "        weighted_predictions.append(\"\\n\")\n",
    "        continue\n",
    "    \n",
    "    line_predictions = line.strip().split(\"\\t\")\n",
    "    line_predictions_dict = {}\n",
    "    for i in range(len(line_predictions)):\n",
    "        line_prediction = line_predictions[i]\n",
    "        norm_acc = norm_accs[i]\n",
    "        \n",
    "        if line_prediction not in line_predictions_dict.keys():\n",
    "            line_predictions_dict[line_prediction] = norm_acc\n",
    "        else:\n",
    "            line_predictions_dict[line_prediction] += norm_acc\n",
    "            \n",
    "    line_prediction = sorted(list(line_predictions_dict.items()), key=lambda item: item[1], reverse=True)[0][0]\n",
    "    weighted_predictions.append(line_prediction)"
   ]
  },
  {
   "cell_type": "code",
   "execution_count": 58,
   "metadata": {},
   "outputs": [],
   "source": [
    "with open(weighted_voting_file, \"w\") as f:\n",
    "    for weighted_prediction in weighted_predictions:\n",
    "        f.write(f\"{weighted_prediction}\")\n",
    "        if weighted_prediction != \"\\n\":\n",
    "            f.write(\"\\n\")"
   ]
  },
  {
   "cell_type": "markdown",
   "metadata": {},
   "source": [
    "## Cmp"
   ]
  },
  {
   "cell_type": "code",
   "execution_count": 64,
   "metadata": {},
   "outputs": [],
   "source": [
    "! paste \"Lao_train.tsv.test\" voting.txt > voting_srcs_trgs_outs.txt\n",
    "! paste \"Lao_train.tsv.test\" weighted_voting.txt > weighted_voting_srcs_trgs_outs.txt\n",
    "\n",
    "! awk '{printf \"%s\\t%s\\n\", $2, $3}' voting_srcs_trgs_outs.txt  > voting_trgs_outs.txt\n",
    "! awk '{printf \"%s\\t%s\\n\", $2, $3}' weighted_voting_srcs_trgs_outs.txt  > weighted_voting_trgs_outs.txt\n",
    "\n",
    "! rm voting_srcs_trgs_outs.txt\n",
    "! rm weighted_voting_srcs_trgs_outs.txt"
   ]
  },
  {
   "cell_type": "code",
   "execution_count": 65,
   "metadata": {},
   "outputs": [],
   "source": [
    "def get_acc(trgs, outs):\n",
    "    assert len(trgs) == len(outs)\n",
    "    \n",
    "    right_count = 0\n",
    "    count = 0\n",
    "    for trg, out in zip(trgs, outs):\n",
    "        if trg == out:\n",
    "            right_count += 1\n",
    "        count += 1\n",
    "        \n",
    "    return right_count / count"
   ]
  },
  {
   "cell_type": "code",
   "execution_count": 66,
   "metadata": {},
   "outputs": [],
   "source": [
    "def get_pairs(file):\n",
    "    with open(file) as f:\n",
    "        lines = f.readlines()\n",
    "    \n",
    "    trgs = []\n",
    "    outs = []\n",
    "    for line in lines:\n",
    "        if line.strip() == \"\":\n",
    "            continue\n",
    "        \n",
    "        trg, out = line.strip().split(\"\\t\")\n",
    "        trgs.append(trg)\n",
    "        outs.append(out)\n",
    "    \n",
    "    return trgs, outs"
   ]
  },
  {
   "cell_type": "code",
   "execution_count": 67,
   "metadata": {},
   "outputs": [
    {
     "name": "stdout",
     "output_type": "stream",
     "text": [
      "0.902895208813733\n"
     ]
    }
   ],
   "source": [
    "print(get_acc(*get_pairs(\"voting_trgs_outs.txt\")))"
   ]
  },
  {
   "cell_type": "code",
   "execution_count": 68,
   "metadata": {},
   "outputs": [
    {
     "name": "stdout",
     "output_type": "stream",
     "text": [
      "0.9046887009992314\n"
     ]
    }
   ],
   "source": [
    "print(get_acc(*get_pairs(\"weighted_voting_trgs_outs.txt\")))"
   ]
  },
  {
   "cell_type": "code",
   "execution_count": null,
   "metadata": {},
   "outputs": [],
   "source": []
  }
 ],
 "metadata": {
  "kernelspec": {
   "display_name": "Python 3",
   "language": "python",
   "name": "python3"
  },
  "language_info": {
   "codemirror_mode": {
    "name": "ipython",
    "version": 3
   },
   "file_extension": ".py",
   "mimetype": "text/x-python",
   "name": "python",
   "nbconvert_exporter": "python",
   "pygments_lexer": "ipython3",
   "version": "3.8.5"
  }
 },
 "nbformat": 4,
 "nbformat_minor": 4
}
